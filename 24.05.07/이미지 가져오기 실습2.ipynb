{
 "cells": [
  {
   "cell_type": "code",
   "execution_count": 1,
   "id": "54a9229f",
   "metadata": {},
   "outputs": [],
   "source": [
    "import requests\n",
    "from pathlib import Path"
   ]
  },
  {
   "cell_type": "code",
   "execution_count": 2,
   "id": "f5604a90",
   "metadata": {},
   "outputs": [],
   "source": [
    "img_url=('https://cdn.pixabay.com/photo/2017/11/02/00/34/parrot-2909828_640.jpg')\n",
    "img_url_statust_code=requests.get(img_url)\n",
    "\n",
    "li=img_url.split('/')\n",
    "file_name=li[-1]\n",
    "down_forder='C:/ex/py/24.05.07/data'\n",
    "image_dir_path=Path(down_forder)\n",
    "\n",
    "\n",
    "image_path=image_dir_path/file_name\n",
    "with open(image_path,'wb') as f:\n",
    "    f.write(img_url_statust_code.content)"
   ]
  },
  {
   "cell_type": "code",
   "execution_count": 4,
   "id": "8ba3b8b4",
   "metadata": {},
   "outputs": [],
   "source": [
    "# pixabay 여러 이미지"
   ]
  },
  {
   "cell_type": "code",
   "execution_count": 5,
   "id": "3b2e252e",
   "metadata": {},
   "outputs": [],
   "source": [
    "s_code=requests.get('https://pixabay.com/ko/images/search/cat/')"
   ]
  },
  {
   "cell_type": "code",
   "execution_count": 6,
   "id": "d96ba0d3",
   "metadata": {},
   "outputs": [
    {
     "data": {
      "text/plain": [
       "<Response [403]>"
      ]
     },
     "execution_count": 6,
     "metadata": {},
     "output_type": "execute_result"
    }
   ],
   "source": [
    "s_code"
   ]
  },
  {
   "cell_type": "code",
   "execution_count": 7,
   "id": "a5c63d3b",
   "metadata": {},
   "outputs": [
    {
     "data": {
      "text/plain": [
       "'<!DOCTYPE html><html lang=\"en-US\"><head><title>Just a moment...</title><meta http-equiv=\"Content-Type\" content=\"text/html; charset=UTF-8\"><meta http-equiv=\"X-UA-Compatible\" content=\"IE=Edge\"><meta name=\"robots\" content=\"noindex,nofollow\"><meta name=\"viewport\" content=\"width=device-width,initial-scale=1\"><style>*{box-sizing:border-box;margin:0;padding:0}html{line-height:1.15;-webkit-text-size-adjust:100%;color:#313131}button,html{font-family:system-ui,-apple-system,BlinkMacSystemFont,Segoe UI,Roboto,Helvetica Neue,Arial,Noto Sans,sans-serif,Apple Color Emoji,Segoe UI Emoji,Segoe UI Symbol,Noto Color Emoji}@media (prefers-color-scheme:dark){body{background-color:#222;color:#d9d9d9}body a{color:#fff}body a:hover{color:#ee730a;text-decoration:underline}body .lds-ring div{border-color:#999 transparent transparent}body .font-red{color:#b20f03}body .big-button,body .pow-button{background-color:#4693ff;color:#1d1d1d}body #challenge-success-text{background-image:url(data:image/svg+xml;base64,PHN2ZyB4bWxucz0iaHR0cDovL3d3dy53My5vcmcvMjAwMC9zdmciIHdpZHRoPSIzMiIgaGVpZ2h0PSIzMiIgZmlsbD0ibm9uZSIgdmlld0JveD0iMCAwIDI2IDI2Ij48cGF0aCBmaWxsPSIjZDlkOWQ5IiBkPSJNMTMgMGExMyAxMyAwIDEgMCAwIDI2IDEzIDEzIDAgMCAwIDAtMjZtMCAyNGExMSAxMSAwIDEgMSAwLTIyIDExIDExIDAgMCAxIDAgMjIiLz48cGF0aCBmaWxsPSIjZDlkOWQ5IiBkPSJtMTAuOTU1IDE2LjA1NS0zLjk1LTQuMTI1LTEuNDQ1IDEuMzg1IDUuMzcgNS42MSA5LjQ5NS05LjYtMS40Mi0xLjQwNXoiLz48L3N2Zz4=)}body #challenge-error-text{background-image:url(data:image/svg+xml;base64,PHN2ZyB4bWxucz0iaHR0cDovL3d3dy53My5vcmcvMjAwMC9zdmciIHdpZHRoPSIzMiIgaGVpZ2h0PSIzMiIgZmlsbD0ibm9uZSI+PHBhdGggZmlsbD0iI0IyMEYwMyIgZD0iTTE2IDNhMTMgMTMgMCAxIDAgMTMgMTNBMTMuMDE1IDEzLjAxNSAwIDAgMCAxNiAzbTAgMjRhMTEgMTEgMCAxIDEgMTEtMTEgMTEuMDEgMTEuMDEgMCAwIDEtMTEgMTEiLz48cGF0aCBmaWxsPSIjQjIwRjAzIiBkPSJNMTcuMDM4IDE4LjYxNUgxNC44N0wxNC41NjMgOS41aDIuNzgzem0tMS4wODQgMS40MjdxLjY2IDAgMS4wNTcuMzg4LjQwNy4zODkuNDA3Ljk5NCAwIC41OTYtLjQwNy45ODQtLjM5Ny4zOS0xLjA1Ny4zODktLjY1IDAtMS4wNTYtLjM4OS0uMzk4LS4zODktLjM5OC0uOTg0IDAtLjU5Ny4zOTgtLjk4NS40MDYtLjM5NyAxLjA1Ni0uMzk3Ii8+PC9zdmc+)}}body{display:flex;flex-direction:column;min-height:100vh}body.no-js .loading-spinner{visibility:hidden}body.no-js .challenge-running{display:none}body.dark{background-color:#222;color:#d9d9d9}body.dark a{color:#fff}body.dark a:hover{color:#ee730a;text-decoration:underline}body.dark .lds-ring div{border-color:#999 transparent transparent}body.dark .font-red{color:#b20f03}body.dark .big-button,body.dark .pow-button{background-color:#4693ff;color:#1d1d1d}body.dark #challenge-success-text{background-image:url(data:image/svg+xml;base64,PHN2ZyB4bWxucz0iaHR0cDovL3d3dy53My5vcmcvMjAwMC9zdmciIHdpZHRoPSIzMiIgaGVpZ2h0PSIzMiIgZmlsbD0ibm9uZSIgdmlld0JveD0iMCAwIDI2IDI2Ij48cGF0aCBmaWxsPSIjZDlkOWQ5IiBkPSJNMTMgMGExMyAxMyAwIDEgMCAwIDI2IDEzIDEzIDAgMCAwIDAtMjZtMCAyNGExMSAxMSAwIDEgMSAwLTIyIDExIDExIDAgMCAxIDAgMjIiLz48cGF0aCBmaWxsPSIjZDlkOWQ5IiBkPSJtMTAuOTU1IDE2LjA1NS0zLjk1LTQuMTI1LTEuNDQ1IDEuMzg1IDUuMzcgNS42MSA5LjQ5NS05LjYtMS40Mi0xLjQwNXoiLz48L3N2Zz4=)}body.dark #challenge-error-text{background-image:url(data:image/svg+xml;base64,PHN2ZyB4bWxucz0iaHR0cDovL3d3dy53My5vcmcvMjAwMC9zdmciIHdpZHRoPSIzMiIgaGVpZ2h0PSIzMiIgZmlsbD0ibm9uZSI+PHBhdGggZmlsbD0iI0IyMEYwMyIgZD0iTTE2IDNhMTMgMTMgMCAxIDAgMTMgMTNBMTMuMDE1IDEzLjAxNSAwIDAgMCAxNiAzbTAgMjRhMTEgMTEgMCAxIDEgMTEtMTEgMTEuMDEgMTEuMDEgMCAwIDEtMTEgMTEiLz48cGF0aCBmaWxsPSIjQjIwRjAzIiBkPSJNMTcuMDM4IDE4LjYxNUgxNC44N0wxNC41NjMgOS41aDIuNzgzem0tMS4wODQgMS40MjdxLjY2IDAgMS4wNTcuMzg4LjQwNy4zODkuNDA3Ljk5NCAwIC41OTYtLjQwNy45ODQtLjM5Ny4zOS0xLjA1Ny4zODktLjY1IDAtMS4wNTYtLjM4OS0uMzk4LS4zODktLjM5OC0uOTg0IDAtLjU5Ny4zOTgtLjk4NS40MDYtLjM5NyAxLjA1Ni0uMzk3Ii8+PC9zdmc+)}body.light{background-color:transparent;color:#313131}body.light a{color:#0051c3}body.light a:hover{color:#ee730a;text-decoration:underline}body.light .lds-ring div{border-color:#595959 transparent transparent}body.light .font-red{color:#fc574a}body.light .big-button,body.light .pow-button{background-color:#003681;border-color:#003681;color:#fff}body.light #challenge-success-text{background-image:url(data:image/svg+xml;base64,PHN2ZyB4bWxucz0iaHR0cDovL3d3dy53My5vcmcvMjAwMC9zdmciIHdpZHRoPSIzMiIgaGVpZ2h0PSIzMiIgZmlsbD0ibm9uZSIgdmlld0JveD0iMCAwIDI2IDI2Ij48cGF0aCBmaWxsPSIjMzEzMTMxIiBkPSJNMTMgMGExMyAxMyAwIDEgMCAwIDI2IDEzIDEzIDAgMCAwIDAtMjZtMCAyNGExMSAxMSAwIDEgMSAwLTIyIDExIDExIDAgMCAxIDAgMjIiLz48cGF0aCBmaWxsPSIjMzEzMTMxIiBkPSJtMTAuOTU1IDE2LjA1NS0zLjk1LTQuMTI1LTEuNDQ1IDEuMzg1IDUuMzcgNS42MSA5LjQ5NS05LjYtMS40Mi0xLjQwNXoiLz48L3N2Zz4=)}body.light #challenge-error-text{background-image:url(data:image/svg+xml;base64,PHN2ZyB4bWxucz0iaHR0cDovL3d3dy53My5vcmcvMjAwMC9zdmciIHdpZHRoPSIzMiIgaGVpZ2h0PSIzMiIgZmlsbD0ibm9uZSI+PHBhdGggZmlsbD0iI2ZjNTc0YSIgZD0iTTE2IDNhMTMgMTMgMCAxIDAgMTMgMTNBMTMuMDE1IDEzLjAxNSAwIDAgMCAxNiAzbTAgMjRhMTEgMTEgMCAxIDEgMTEtMTEgMTEuMDEgMTEuMDEgMCAwIDEtMTEgMTEiLz48cGF0aCBmaWxsPSIjZmM1NzRhIiBkPSJNMTcuMDM4IDE4LjYxNUgxNC44N0wxNC41NjMgOS41aDIuNzgzem0tMS4wODQgMS40MjdxLjY2IDAgMS4wNTcuMzg4LjQwNy4zODkuNDA3Ljk5NCAwIC41OTYtLjQwNy45ODQtLjM5Ny4zOS0xLjA1Ny4zODktLjY1IDAtMS4wNTYtLjM4OS0uMzk4LS4zODktLjM5OC0uOTg0IDAtLjU5Ny4zOTgtLjk4NS40MDYtLjM5NyAxLjA1Ni0uMzk3Ii8+PC9zdmc+)}a{background-color:transparent;color:#0051c3;text-decoration:none;transition:color .15s ease}a:hover{color:#ee730a;text-decoration:underline}.main-content{margin:8rem auto;max-width:60rem;width:100%}.heading-favicon{height:2rem;margin-right:.5rem;width:2rem}@media (width <= 720px){.main-content{margin-top:4rem}.heading-favicon{height:1.5rem;width:1.5rem}}.footer,.main-content{padding-left:1.5rem;padding-right:1.5rem}.main-wrapper{align-items:center;display:flex;flex:1;flex-direction:column}.font-red{color:#b20f03}.spacer{margin:2rem 0}.h1{font-size:2.5rem;font-weight:500;line-height:3.75rem}.h2{font-weight:500}.core-msg,.h2{font-size:1.5rem;line-height:2.25rem}.body-text,.core-msg{font-weight:400}.body-text{font-size:1rem;line-height:1.25rem}@media (width <= 720px){.h1{font-size:1.5rem;line-height:1.75rem}.h2{font-size:1.25rem}.core-msg,.h2{line-height:1.5rem}.core-msg{font-size:1rem}}#challenge-error-text{background-image:url(data:image/svg+xml;base64,PHN2ZyB4bWxucz0iaHR0cDovL3d3dy53My5vcmcvMjAwMC9zdmciIHdpZHRoPSIzMiIgaGVpZ2h0PSIzMiIgZmlsbD0ibm9uZSI+PHBhdGggZmlsbD0iI2ZjNTc0YSIgZD0iTTE2IDNhMTMgMTMgMCAxIDAgMTMgMTNBMTMuMDE1IDEzLjAxNSAwIDAgMCAxNiAzbTAgMjRhMTEgMTEgMCAxIDEgMTEtMTEgMTEuMDEgMTEuMDEgMCAwIDEtMTEgMTEiLz48cGF0aCBmaWxsPSIjZmM1NzRhIiBkPSJNMTcuMDM4IDE4LjYxNUgxNC44N0wxNC41NjMgOS41aDIuNzgzem0tMS4wODQgMS40MjdxLjY2IDAgMS4wNTcuMzg4LjQwNy4zODkuNDA3Ljk5NCAwIC41OTYtLjQwNy45ODQtLjM5Ny4zOS0xLjA1Ny4zODktLjY1IDAtMS4wNTYtLjM4OS0uMzk4LS4zODktLjM5OC0uOTg0IDAtLjU5Ny4zOTgtLjk4NS40MDYtLjM5NyAxLjA1Ni0uMzk3Ii8+PC9zdmc+);padding-left:34px}#challenge-error-text,#challenge-success-text{background-repeat:no-repeat;background-size:contain}#challenge-success-text{background-image:url(data:image/svg+xml;base64,PHN2ZyB4bWxucz0iaHR0cDovL3d3dy53My5vcmcvMjAwMC9zdmciIHdpZHRoPSIzMiIgaGVpZ2h0PSIzMiIgZmlsbD0ibm9uZSIgdmlld0JveD0iMCAwIDI2IDI2Ij48cGF0aCBmaWxsPSIjMzEzMTMxIiBkPSJNMTMgMGExMyAxMyAwIDEgMCAwIDI2IDEzIDEzIDAgMCAwIDAtMjZtMCAyNGExMSAxMSAwIDEgMSAwLTIyIDExIDExIDAgMCAxIDAgMjIiLz48cGF0aCBmaWxsPSIjMzEzMTMxIiBkPSJtMTAuOTU1IDE2LjA1NS0zLjk1LTQuMTI1LTEuNDQ1IDEuMzg1IDUuMzcgNS42MSA5LjQ5NS05LjYtMS40Mi0xLjQwNXoiLz48L3N2Zz4=);padding-left:42px}.text-center{text-align:center}.big-button{border:.063rem solid #0051c3;border-radius:.313rem;font-size:.875rem;line-height:1.313rem;padding:.375rem 1rem;transition-duration:.2s;transition-property:background-color,border-color,color;transition-timing-function:ease}.big-button:hover{cursor:pointer}.captcha-prompt:not(.hidden){display:flex}@media (width <= 720px){.captcha-prompt:not(.hidden){flex-wrap:wrap;justify-content:center}}.pow-button{background-color:#0051c3;color:#fff;margin:2rem 0}.pow-button:hover{background-color:#003681;border-color:#003681;color:#fff}.footer{font-size:.75rem;line-height:1.125rem;margin:0 auto;max-width:60rem;width:100%}.footer-inner{border-top:1px solid #d9d9d9;padding-bottom:1rem;padding-top:1rem}.clearfix:after{clear:both;content:\"\";display:table}.clearfix .column{float:left;padding-right:1.5rem;width:50%}.diagnostic-wrapper{margin-bottom:.5rem}.footer .ray-id{text-align:center}.footer .ray-id code{font-family:monaco,courier,monospace}.core-msg,.zone-name-title{overflow-wrap:break-word}@media (width <= 720px){.diagnostic-wrapper{display:flex;flex-wrap:wrap;justify-content:center}.clearfix:after{clear:none;content:none;display:initial;text-align:center}.column{padding-bottom:2rem}.clearfix .column{float:none;padding:0;width:auto;word-break:keep-all}.zone-name-title{margin-bottom:1rem}}.loading-spinner{height:76.391px}.lds-ring{display:inline-block;position:relative}.lds-ring,.lds-ring div{height:1.875rem;width:1.875rem}.lds-ring div{animation:lds-ring 1.2s cubic-bezier(.5,0,.5,1) infinite;border:.3rem solid transparent;border-radius:50%;border-top-color:#313131;box-sizing:border-box;display:block;position:absolute}.lds-ring div:first-child{animation-delay:-.45s}.lds-ring div:nth-child(2){animation-delay:-.3s}.lds-ring div:nth-child(3){animation-delay:-.15s}@keyframes lds-ring{0%{transform:rotate(0)}to{transform:rotate(1turn)}}@media screen and (-ms-high-contrast:active),screen and (-ms-high-contrast:none){.main-wrapper,body{display:block}}.rtl .heading-favicon{margin-left:.5rem;margin-right:0}.rtl #challenge-success-text{background-position:100%;padding-left:0;padding-right:42px}.rtl #challenge-error-text{background-position:100%;padding-left:0;padding-right:34px}</style><meta http-equiv=\"refresh\" content=\"375\"></head><body class=\"no-js\"><div class=\"main-wrapper\" role=\"main\"><div class=\"main-content\"><noscript><div id=\"challenge-error-title\"><div class=\"h2\"><span id=\"challenge-error-text\">Enable JavaScript and cookies to continue</span></div></div></noscript></div></div><script>(function(){window._cf_chl_opt={cvId: \\'3\\',cZone: \"pixabay.com\",cType: \\'interactive\\',cNounce: \\'58563\\',cRay: \\'87fdb1cbff3d3085\\',cHash: \\'38109bcba02a0de\\',cUPMDTk: \"\\\\/ko\\\\/images\\\\/search\\\\/cat\\\\/?__cf_chl_tk=g4FziPB.1qXKzrvsf1ki59vnShJpoWDF3X.OpPO4YNw-1715048045-0.0.1.1-1343\",cFPWv: \\'b\\',cTTimeMs: \\'1000\\',cMTimeMs: \\'375000\\',cTplV: 5,cTplB: \\'cf\\',cK: \"visitor-time\",fa: \"\\\\/ko\\\\/images\\\\/search\\\\/cat\\\\/?__cf_chl_f_tk=g4FziPB.1qXKzrvsf1ki59vnShJpoWDF3X.OpPO4YNw-1715048045-0.0.1.1-1343\",md: \"U8sqLh7yxdcyOBkwK0ayrdd7_vLEORAGrIlNqDG.UK8-1715048045-1.1.1.1-25KNLFxFuLeYhvTZmopKiS5pvgh3YXMVQ0JrjOeAxp3z.QkYk6uFkI2g8wdFsq8XkSJZFlIug.6ty1XseS2UO1eWmUvMEdFvy.GvmeJ.HWwxF9e.h7NUAoj.XY2KLLWk9_pk2RTSCiIyfIzv8XWkp.9lLmLz6fBlYCmAbmEEfqUzDrbsdLr7WupkVQnUYwMse9hn.JqNpPbraW6d2w6MTNpo5kJ9TODlkPWsLBCgIzbBmcQtPhqG8yD7LJhnIJy.Ez5xvWzfH686OlRCSkvc65q_DwNvSt06TLOgcUt3.IYZuIpGHTcpXh1MNcFTlz_8b8D7SMW8fM_OVRJxCsmhGnTU.aFVfSGkZWbXR7CDrRJ5YsY0HdZirEqZsRHDVZbTi9T0bOQDTv4S0_cZ.tt7SFJ2Bb0yZ6kos00eKcUZZ_CDjDdDp0PCOMO70nTdcY0bIH8MRtJqC.VFdrlYcYfBL.knRmNjKL.Hfj4iMIBd3RddcAZ12YyeduTGvL2dSYxTa9IDdOu_KIQ5dfqCb40Ulllxvep3YRoobXUIy539vBx0.9ITWC9hT9OBf4f.HQtXcUEldG9gnyRiliCO2JWlVX47TrrQe5t7S8GprKrjzFzqcudf9_FcHuWQYFuGrR6etEfccAyFQJ.cf03FH0ESBmUPbiH7KfzTVRpXgc0rTNo5kV9eUbNlKqccZ7zgpGPJDOMOmnfounb78LN4_ybscPRou9tx6Vv9qK7LGNCHM.Ifw9KOEmusWkdUaTtOA8rirlcBBfjEMuJ6jjZwqfgMg_Bev7Bs.UVUa_3HnPhi6zDhA9sSVx8ToBx5Bg8YchnpoDlFYG2pRPsBoLOPULt_ePa9O6TC6_dkJJcOqcdxXRsMLrye2VbIPUlA.iNC3Qd1SRlTEX3JcupsKRF56Sw4tvKCXzwxx1I5JYtKTTvDiREDhoPRDXl6xMrjOxcIC9V76HFLBS4yNOcipzfYv9ch2kw6rf1rUfftaRiI37zQHdnYM7kEPatMnHxWRHTNJth6invBeZH4fsJJ_hiehvk6mb.yfnf3.o7J.8zwElADvq.ngCDEYtnGniU.d_MyYVWpDnmPEBMjbU58wwNuKCbSEvRhO56lZthcgQz__Vw4NO2S117hJsUb0wpYdBXQ61sO.CR4m68nOSXLWavbaYK.bQbIEfd4_09ZHwzSphwFH_b6VYn_Zpbo2tdS8U28u2YAYe9PK2JpNss4wgILwDS2Jrrx29pdgJPyibxnrwQrdMNZkSxMkzo91oZ6vl4NQcv_\",mdrd: \"uTERXZ.CsA6GRfZoQNqeeKx0e6TJ3S16.ZOudPSQwjI-1715048045-1.1.1.1-QlaeeyQidnaT7Pd0ewjkx49goUkfXckT2WKRTPSXUUB_4afesOS2X6t4jYKV4cNWDyfhtJYLXgTGbuMX0D8hy_x1lq4rI3BtTPB7wPUEmRuZBscEiGHYtaF9kWXph2F5saBPHZJVBcjTjgQvKEbWH6JK7b7UbfhI5RTA7Whkh7ADcP.NStlEC3m18yz0ca9C_gVF0geSBu55uGqQI8BxjKNuLdqkRPDaUhMB93NRDbBVMoNwWWD4scictie9svFjll7qivbYnol.XVi.C7TvJ2Ls_W6P9GBAgRRuEsMik5F_wUo4RqqROkyvM9II20GTOtYa4MHaXHGy1r3h7NX0HvBBgciIHnfGovC4.0hherYIooDYI1EF09TnpbgQG_.fqqPBL1tHFVLo1lglzB2jQ7fpeK13m3t1VYHI37yeRGVL5bDhQANbILZwYkSw2UpiDBpO1OyDnEqa65kE.ZgrE4K_Saa5oUz1JlBW0XkFfheg8bBGMha6ev2kBuZdMwOQlWka1wycmccCB2te8NSRs8tbN80shNrKBihwjiCOOT9j7GkPrYq0y1CZ8thf5eM1EEmDr0g3R0t.RlhJYnX5PivflsO4E9qo94qzrxrdkzZeMq6D.r7wnUaB_zrVMk2NME0Mr5FlEeZ2RO2AM1WM7HcRboGRl6j1VPtFOvYryG9XS8bMA33clFGeYHHmwl11CWU.Y6wGsOANGcGMZaQyD1ZNZp_NuTO9U5ei3MrnDNtEiq_WFYyNxPsr1IChg3Ji65G0aGHUvTyVPg4i0V.3LfjHii1.Q5Jh_he7rhrHtLBFbjaIcsy8OaIksnIxzACFLEdQcLanRPyr8p17mv6nbuv6QjG3r44Bg2lKeWsuH1WDiUJ0cRR3MAiXu5Rn05kpz4mBS_11OPgVolB0D3TGxW59X.dx4uzZEwuKOYvujzZHIlG8gPKQRNwjA1ZpI7Ht4SWedRZ6yxOoQGQbAXP.gOMQ04lHDCuPDTaDFdSiv8NTc9NHDJAfNeQXp.Rf7V_bWOuVI2WEFn18Ppgn4e3jeAbIrJVXbQBhwUESF4fvUg3w_LL708oaiwUULsBy9leJb2KMdOX2win4._g.zteEua6kyWmLDo4WJMlNEF2VKEQ4iJS6chz0fEBc2G8nQDOqqaiSxofezMdb9ejM8fTRJJhYsqgoqoFlYEGWSfIkjNU47tIdGFMIDTXvB07sqz_e1sFPIn7Dpeln9riEDpVn6xsgieRpF1YBvS8F2yovnM1pbpRu0m_kfZSIf4zM.07PVD2nVvTgxnYlHvJKsudqj0kW6WvISI_EhGvExw1ujqexcxv1PA.9NrzhE2OrcSe5awNwsDUoQel.STzntwPyJUnztlfp0PuYh5ojUyCqxpzk2A2eiUC.4QLg7kiZZI0WG9aHWy7h5NM691JZ6DVNHNP7kLYZUMOPsmR39BkLSgWcnkFB_nQ6SMrq7ZSqeVuwjtp06WJGZuFrdabn0XR0KXPc7R65ngMtyZG9vkSNXFT8zYmmoyYC.omgKwHbSYPkO6KrMgfjiENq4cwVirZOV8AlIR_8TSVm0rKmZiodSFAwB2TBg_w9tLC8TeXRLxIKM9RUDkkhhXC4jLCwmThQla4sUWl80aw48E_JjOstTMmZXSz4reMwgAI11ZLPZnHDthcWEacAtKVQCg9O1UpcdAGAZykxtgmKxH91CjydWDAsysbIa_4OLqZz56MaeEZhq9GLrSScukbwoOntLTipfXGQv2AoVnKoASAebYgQNIeLpeCXVxoH8RavBjft33x.WbEV4Z7GWMTYnv0HRiwmY6gk6PzhTzN8QzaNcb4CE3IDLQKe3RALIkz.vhOQ.ApkUsxyVep6SJd75BY0puD1ZBaO.bDv5xi5IaWABIy_ey2P5MftKaowvwtocLT4SkFQXfJ5QEBa1k0FoJ0EWXXy2rgehevGIhzGPudyEk87dP57WS3LpZ7iD_iEkffpU.rRCKXR1re8pQQsQN9MsYDznBibcZDwuyH8VdN_iAW96nw_kybJ39R_orm3yy1fhCruki_aDe_6Fgo.NVrVZ0As42PexwnBFACAMUtK1HtiE0UlLrxvx2vQJ_wVcWQUEGlYADI_y2GRpxJntubKNBAEygjztbY02l2u0ihQoXifFnEuhL91H8kvEj48CwxDQcMC\",cRq: {ru: \\'aHR0cHM6Ly9waXhhYmF5LmNvbS9rby9pbWFnZXMvc2VhcmNoL2NhdC8=\\',ra: \\'cHl0aG9uLXJlcXVlc3RzLzIuMzEuMA==\\',rm: \\'R0VU\\',d: \\'/TQJqxHqIZ/IFm86sXLlz4hvZGXYVPfz32scaJkkYWbNJVRini9Bufqwod1chnPwQYW/LNiB7wuzdz/ND7C2hBap2CAzo4RQCEiTqgakKF86I26F9npgdTspgpuyIewAn7D5bwDK3sv5a5MtGzkiZTwdQ654g/Ct5PbFY21ysKGMvlh97YrsF3f/MR/royz/R7hbj9egKVDx9BpWRW54tnj6EzV2Od/3Os54MKy9kVl65vX4smXXods/eg32W3WIy08vJ/815LjpVU0ectCXMKfqx1brIBaXmqOu+jNHlrQ8e7v0eIqCopdvMn+EKGHn0Z1z1sBjsS2SAGXuckq5svlz/4sZecvaWJUHk/1bH1vk702prTW3kIS+drQDkOdxWn/ru4Mlh2rCM8iXe91jUOJne3Vx9MvE2e6NHomijPJz3RzkpQLEsUJgr+xzNkGW+GXpo3Zzq/RHEnmbu3EFfNJmb9e9h7kKE4J8n58/jWXwuLqfIg+00vuAs1al98q4fEZA6wr30ifezHaFy6u2VfcS920j+cvh+ti/ncajhNs+sS73GXEPs+xvI+XTTKnj7F3HaNN3CgmZM2A+pnKMIgU7gfMpSkHnbfNFz/z/Ax8=\\',t: \\'MTcxNTA0ODA0NS40NDUwMDA=\\',cT: Math.floor(Date.now() / 1000),m: \\'wQ24q7Ia1y0teDc629ltqZvscANRlJkWvIh7NJFB/J4=\\',i1: \\'JDqWg2JQEbaoH2kX3UfiPQ==\\',i2: \\'Z3ER2x7tTcTLC1BtYbmXAg==\\',zh: \\'rn4uVVI55DugAe2oDwA8RdEOOxslcW1vAsJM/MDyRnY=\\',uh: \\'YE9XOpG5TeHmhA1zfs5mxC8CrRZzq2a/+r+OU7dliYQ=\\',hh: \\'9lZ7QacdPX/XIUWg44BYGVRIsqwHE/7A97JjwS5aDEM=\\',}};var cpo = document.createElement(\\'script\\');cpo.src = \\'/cdn-cgi/challenge-platform/h/b/orchestrate/chl_page/v1?ray=87fdb1cbff3d3085\\';window._cf_chl_opt.cOgUHash = location.hash === \\'\\' && location.href.indexOf(\\'#\\') !== -1 ? \\'#\\' : location.hash;window._cf_chl_opt.cOgUQuery = location.search === \\'\\' && location.href.slice(0, location.href.length - window._cf_chl_opt.cOgUHash.length).indexOf(\\'?\\') !== -1 ? \\'?\\' : location.search;if (window.history && window.history.replaceState) {var ogU = location.pathname + window._cf_chl_opt.cOgUQuery + window._cf_chl_opt.cOgUHash;history.replaceState(null, null, \"\\\\/ko\\\\/images\\\\/search\\\\/cat\\\\/?__cf_chl_rt_tk=g4FziPB.1qXKzrvsf1ki59vnShJpoWDF3X.OpPO4YNw-1715048045-0.0.1.1-1343\" + window._cf_chl_opt.cOgUHash);cpo.onload = function() {history.replaceState(null, null, ogU);}}document.getElementsByTagName(\\'head\\')[0].appendChild(cpo);}());</script></body></html>'"
      ]
     },
     "execution_count": 7,
     "metadata": {},
     "output_type": "execute_result"
    }
   ],
   "source": [
    "s_code.text"
   ]
  },
  {
   "cell_type": "code",
   "execution_count": null,
   "id": "62fb3551",
   "metadata": {},
   "outputs": [],
   "source": []
  },
  {
   "cell_type": "code",
   "execution_count": null,
   "id": "95566107",
   "metadata": {},
   "outputs": [],
   "source": []
  },
  {
   "cell_type": "code",
   "execution_count": null,
   "id": "26a256c3",
   "metadata": {},
   "outputs": [],
   "source": [
    "# container--wYO8e 이미지가 소스 경로가 있는 영역 클래스"
   ]
  }
 ],
 "metadata": {
  "kernelspec": {
   "display_name": "Python 3 (ipykernel)",
   "language": "python",
   "name": "python3"
  },
  "language_info": {
   "codemirror_mode": {
    "name": "ipython",
    "version": 3
   },
   "file_extension": ".py",
   "mimetype": "text/x-python",
   "name": "python",
   "nbconvert_exporter": "python",
   "pygments_lexer": "ipython3",
   "version": "3.11.5"
  }
 },
 "nbformat": 4,
 "nbformat_minor": 5
}
