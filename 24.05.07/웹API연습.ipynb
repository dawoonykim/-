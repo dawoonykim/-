{
 "cells": [
  {
   "cell_type": "code",
   "execution_count": 1,
   "id": "2f51d403",
   "metadata": {},
   "outputs": [],
   "source": [
    "#API키를 사용하지 않고 데이터 가져오기"
   ]
  },
  {
   "cell_type": "code",
   "execution_count": 2,
   "id": "b3d6d45e",
   "metadata": {},
   "outputs": [],
   "source": [
    "#International Space Station 위도, 경도 제공 open-notify.org"
   ]
  },
  {
   "cell_type": "code",
   "execution_count": 3,
   "id": "576afd80",
   "metadata": {},
   "outputs": [],
   "source": [
    "url='http://api.open-notify.org/iss-now.json'"
   ]
  },
  {
   "cell_type": "code",
   "execution_count": 4,
   "id": "411ead37",
   "metadata": {},
   "outputs": [],
   "source": [
    "import requests"
   ]
  },
  {
   "cell_type": "code",
   "execution_count": 5,
   "id": "582feab7",
   "metadata": {},
   "outputs": [
    {
     "data": {
      "text/plain": [
       "<Response [200]>"
      ]
     },
     "execution_count": 5,
     "metadata": {},
     "output_type": "execute_result"
    }
   ],
   "source": [
    "requests.get(url)"
   ]
  },
  {
   "cell_type": "code",
   "execution_count": 6,
   "id": "aa12a914",
   "metadata": {},
   "outputs": [],
   "source": [
    "response_status_code=requests.get(url)"
   ]
  },
  {
   "cell_type": "code",
   "execution_count": 7,
   "id": "bc27e733",
   "metadata": {},
   "outputs": [
    {
     "data": {
      "text/plain": [
       "'{\"message\": \"success\", \"iss_position\": {\"longitude\": \"-10.2766\", \"latitude\": \"49.7572\"}, \"timestamp\": 1715043285}'"
      ]
     },
     "execution_count": 7,
     "metadata": {},
     "output_type": "execute_result"
    }
   ],
   "source": [
    "response_status_code.text"
   ]
  },
  {
   "cell_type": "code",
   "execution_count": 8,
   "id": "b6a2aea7",
   "metadata": {},
   "outputs": [
    {
     "data": {
      "text/plain": [
       "str"
      ]
     },
     "execution_count": 8,
     "metadata": {},
     "output_type": "execute_result"
    }
   ],
   "source": [
    "type(response_status_code.text)"
   ]
  },
  {
   "cell_type": "code",
   "execution_count": null,
   "id": "dc58d7dc",
   "metadata": {},
   "outputs": [],
   "source": [
    "# 웹에서 가져온 데이터는 대부분(반정형, xml, json) str(문자열) 보다는"
   ]
  },
  {
   "cell_type": "code",
   "execution_count": 9,
   "id": "ad3a7f61",
   "metadata": {},
   "outputs": [],
   "source": [
    "import json"
   ]
  },
  {
   "cell_type": "code",
   "execution_count": 13,
   "id": "7b9fdb33",
   "metadata": {},
   "outputs": [],
   "source": [
    "py_dic=json.loads(response_status_code.text)"
   ]
  },
  {
   "cell_type": "code",
   "execution_count": 14,
   "id": "9227a264",
   "metadata": {},
   "outputs": [
    {
     "data": {
      "text/plain": [
       "dict"
      ]
     },
     "execution_count": 14,
     "metadata": {},
     "output_type": "execute_result"
    }
   ],
   "source": [
    "type(py_dic)"
   ]
  },
  {
   "cell_type": "code",
   "execution_count": 15,
   "id": "640f6065",
   "metadata": {},
   "outputs": [
    {
     "data": {
      "text/plain": [
       "{'longitude': '-10.2766', 'latitude': '49.7572'}"
      ]
     },
     "execution_count": 15,
     "metadata": {},
     "output_type": "execute_result"
    }
   ],
   "source": [
    "py_dic['iss_position']"
   ]
  },
  {
   "cell_type": "code",
   "execution_count": 16,
   "id": "157e20a1",
   "metadata": {},
   "outputs": [
    {
     "data": {
      "text/plain": [
       "'-10.2766'"
      ]
     },
     "execution_count": 16,
     "metadata": {},
     "output_type": "execute_result"
    }
   ],
   "source": [
    "py_dic['iss_position']['longitude']"
   ]
  },
  {
   "cell_type": "code",
   "execution_count": 17,
   "id": "e25dd3a9",
   "metadata": {},
   "outputs": [],
   "source": [
    "#1초마다 국제 우주 정거장의 위도 경도를 가져오는 프로그램을 짜시오..."
   ]
  },
  {
   "cell_type": "code",
   "execution_count": 18,
   "id": "dbea39d4",
   "metadata": {},
   "outputs": [],
   "source": [
    "import time"
   ]
  },
  {
   "cell_type": "code",
   "execution_count": null,
   "id": "c033691b",
   "metadata": {},
   "outputs": [],
   "source": []
  },
  {
   "cell_type": "code",
   "execution_count": 21,
   "id": "e289b5d4",
   "metadata": {},
   "outputs": [
    {
     "name": "stdout",
     "output_type": "stream",
     "text": [
      "70.7155\n",
      "71.2151\n",
      "71.6863\n",
      "72.1766\n",
      "72.6392\n",
      "73.1205\n",
      "73.5748\n",
      "74.0477\n",
      "74.4941\n"
     ]
    },
    {
     "ename": "KeyboardInterrupt",
     "evalue": "",
     "output_type": "error",
     "traceback": [
      "\u001b[1;31m---------------------------------------------------------------------------\u001b[0m",
      "\u001b[1;31mKeyboardInterrupt\u001b[0m                         Traceback (most recent call last)",
      "Cell \u001b[1;32mIn[21], line 4\u001b[0m\n\u001b[0;32m      2\u001b[0m response_status_code\u001b[38;5;241m=\u001b[39mrequests\u001b[38;5;241m.\u001b[39mget(url)\n\u001b[0;32m      3\u001b[0m py_dic\u001b[38;5;241m=\u001b[39mjson\u001b[38;5;241m.\u001b[39mloads(response_status_code\u001b[38;5;241m.\u001b[39mtext)\n\u001b[1;32m----> 4\u001b[0m time\u001b[38;5;241m.\u001b[39msleep(\u001b[38;5;241m10\u001b[39m)\n\u001b[0;32m      5\u001b[0m \u001b[38;5;28mprint\u001b[39m(py_dic[\u001b[38;5;124m'\u001b[39m\u001b[38;5;124miss_position\u001b[39m\u001b[38;5;124m'\u001b[39m][\u001b[38;5;124m'\u001b[39m\u001b[38;5;124mlongitude\u001b[39m\u001b[38;5;124m'\u001b[39m])\n",
      "\u001b[1;31mKeyboardInterrupt\u001b[0m: "
     ]
    }
   ],
   "source": [
    "while True:\n",
    "    response_status_code=requests.get(url)\n",
    "    py_dic=json.loads(response_status_code.text)\n",
    "    time.sleep(10)\n",
    "    print(py_dic['iss_position']['longitude'])"
   ]
  },
  {
   "cell_type": "code",
   "execution_count": null,
   "id": "0006c0c5",
   "metadata": {},
   "outputs": [
    {
     "name": "stdout",
     "output_type": "stream",
     "text": [
      "{'longitude': '75.7248', 'latitude': '23.2213'}\n",
      "{'longitude': '76.1577', 'latitude': '22.7422'}\n",
      "{'longitude': '76.6086', 'latitude': '22.2377'}\n",
      "{'longitude': '77.0348', 'latitude': '21.7558'}\n",
      "{'longitude': '77.4789', 'latitude': '21.2484'}\n",
      "{'longitude': '77.8988', 'latitude': '20.7638'}\n",
      "{'longitude': '78.3364', 'latitude': '20.2538'}\n",
      "{'longitude': '78.7502', 'latitude': '19.7668'}\n",
      "{'longitude': '79.1817', 'latitude': '19.2543'}\n",
      "{'longitude': '79.5900', 'latitude': '18.7649'}\n",
      "{'longitude': '80.0158', 'latitude': '18.2500'}\n",
      "{'longitude': '80.4189', 'latitude': '17.7584'}\n",
      "{'longitude': '80.8394', 'latitude': '17.2413'}\n",
      "{'longitude': '81.2374', 'latitude': '16.7478'}\n",
      "{'longitude': '81.6528', 'latitude': '16.2287'}\n",
      "{'longitude': '82.0463', 'latitude': '15.7333'}\n",
      "{'longitude': '82.4570', 'latitude': '15.2124'}\n",
      "{'longitude': '82.8462', 'latitude': '14.7154'}\n",
      "{'longitude': '83.2527', 'latitude': '14.1926'}\n",
      "{'longitude': '83.6378', 'latitude': '13.6940'}\n",
      "{'longitude': '84.0403', 'latitude': '13.1698'}\n",
      "{'longitude': '84.4218', 'latitude': '12.6698'}\n",
      "{'longitude': '84.8206', 'latitude': '12.1439'}\n",
      "{'longitude': '85.1988', 'latitude': '11.6426'}\n",
      "{'longitude': '85.5943', 'latitude': '11.1155'}\n",
      "{'longitude': '85.9694', 'latitude': '10.6130'}\n",
      "{'longitude': '86.3618', 'latitude': '10.0846'}\n",
      "{'longitude': '86.7342', 'latitude': '9.5810'}\n",
      "{'longitude': '87.1239', 'latitude': '9.0517'}\n",
      "{'longitude': '87.4938', 'latitude': '8.5471'}\n",
      "{'longitude': '87.8810', 'latitude': '8.0168'}\n",
      "{'longitude': '88.2487', 'latitude': '7.5114'}\n",
      "{'longitude': '88.6338', 'latitude': '6.9803'}\n",
      "{'longitude': '88.9997', 'latitude': '6.4741'}\n",
      "{'longitude': '89.3829', 'latitude': '5.9422'}\n",
      "{'longitude': '89.7471', 'latitude': '5.4355'}\n",
      "{'longitude': '90.1289', 'latitude': '4.9030'}\n",
      "{'longitude': '90.4917', 'latitude': '4.3957'}\n",
      "{'longitude': '90.8721', 'latitude': '3.8629'}\n",
      "{'longitude': '91.2339', 'latitude': '3.3552'}\n",
      "{'longitude': '91.6133', 'latitude': '2.8219'}\n",
      "{'longitude': '91.9744', 'latitude': '2.3138'}\n",
      "{'longitude': '92.3531', 'latitude': '1.7803'}\n",
      "{'longitude': '92.7495', 'latitude': '1.2214'}\n",
      "{'longitude': '93.1097', 'latitude': '0.7132'}\n",
      "{'longitude': '93.4879', 'latitude': '0.1796'}\n",
      "{'longitude': '93.8480', 'latitude': '-0.3286'}\n",
      "{'longitude': '94.2261', 'latitude': '-0.8623'}\n",
      "{'longitude': '94.5864', 'latitude': '-1.3704'}\n",
      "{'longitude': '94.9648', 'latitude': '-1.9038'}\n",
      "{'longitude': '95.3254', 'latitude': '-2.4118'}\n",
      "{'longitude': '95.7043', 'latitude': '-2.9449'}\n",
      "{'longitude': '96.0655', 'latitude': '-3.4524'}\n",
      "{'longitude': '96.4453', 'latitude': '-3.9852'}\n",
      "{'longitude': '96.8075', 'latitude': '-4.4923'}\n",
      "{'longitude': '97.1884', 'latitude': '-5.0247'}\n",
      "{'longitude': '97.5700', 'latitude': '-5.5567'}\n",
      "{'longitude': '97.9341', 'latitude': '-6.0631'}\n",
      "{'longitude': '98.3173', 'latitude': '-6.5945'}\n",
      "{'longitude': '98.6830', 'latitude': '-7.1002'}\n",
      "{'longitude': '99.0680', 'latitude': '-7.6308'}\n",
      "{'longitude': '99.4358', 'latitude': '-8.1359'}\n",
      "{'longitude': '99.8230', 'latitude': '-8.6657'}\n",
      "{'longitude': '100.1928', 'latitude': '-9.1697'}\n",
      "{'longitude': '100.5823', 'latitude': '-9.6984'}\n",
      "{'longitude': '100.9545', 'latitude': '-10.2014'}\n",
      "{'longitude': '101.3468', 'latitude': '-10.7289'}\n",
      "{'longitude': '101.7218', 'latitude': '-11.2308'}\n",
      "{'longitude': '102.1172', 'latitude': '-11.7572'}\n",
      "{'longitude': '102.4952', 'latitude': '-12.2578'}\n",
      "{'longitude': '102.8938', 'latitude': '-12.7827'}\n",
      "{'longitude': '103.2751', 'latitude': '-13.2819'}\n",
      "{'longitude': '103.6774', 'latitude': '-13.8053'}\n",
      "{'longitude': '104.0624', 'latitude': '-14.3031'}\n",
      "{'longitude': '104.4687', 'latitude': '-14.8248'}\n",
      "{'longitude': '104.8576', 'latitude': '-15.3209'}\n",
      "{'longitude': '105.2682', 'latitude': '-15.8410'}\n",
      "{'longitude': '105.6615', 'latitude': '-16.3355'}\n",
      "{'longitude': '106.0768', 'latitude': '-16.8536'}\n",
      "{'longitude': '106.4745', 'latitude': '-17.3460'}\n",
      "{'longitude': '106.8947', 'latitude': '-17.8620'}\n",
      "{'longitude': '107.2974', 'latitude': '-18.3524'}\n",
      "{'longitude': '107.7229', 'latitude': '-18.8661'}\n",
      "{'longitude': '108.1308', 'latitude': '-19.3542'}\n",
      "{'longitude': '108.5621', 'latitude': '-19.8657'}\n",
      "{'longitude': '108.9758', 'latitude': '-20.3517'}\n",
      "{'longitude': '109.4132', 'latitude': '-20.8605'}\n",
      "{'longitude': '109.8326', 'latitude': '-21.3438'}\n",
      "{'longitude': '110.2763', 'latitude': '-21.8498'}\n",
      "{'longitude': '110.7021', 'latitude': '-22.3304'}\n",
      "{'longitude': '111.1526', 'latitude': '-22.8335'}\n",
      "{'longitude': '111.5851', 'latitude': '-23.3113'}\n",
      "{'longitude': '112.0428', 'latitude': '-23.8113'}\n",
      "{'longitude': '112.4824', 'latitude': '-24.2861'}\n",
      "{'longitude': '112.9479', 'latitude': '-24.7829'}\n",
      "{'longitude': '113.3950', 'latitude': '-25.2545'}\n",
      "{'longitude': '113.8686', 'latitude': '-25.7479'}\n",
      "{'longitude': '114.3236', 'latitude': '-26.2161'}\n",
      "{'longitude': '114.8057', 'latitude': '-26.7058'}\n",
      "{'longitude': '115.2689', 'latitude': '-27.1703'}\n",
      "{'longitude': '115.7598', 'latitude': '-27.6560'}\n",
      "{'longitude': '116.2319', 'latitude': '-28.1168'}\n",
      "{'longitude': '116.7323', 'latitude': '-28.5985'}\n",
      "{'longitude': '117.2136', 'latitude': '-29.0552'}\n",
      "{'longitude': '117.7238', 'latitude': '-29.5325'}\n",
      "{'longitude': '118.2147', 'latitude': '-29.9849'}\n",
      "{'longitude': '118.7352', 'latitude': '-30.4575'}\n",
      "{'longitude': '119.2361', 'latitude': '-30.9053'}\n",
      "{'longitude': '119.7674', 'latitude': '-31.3730'}\n",
      "{'longitude': '120.2788', 'latitude': '-31.8160'}\n",
      "{'longitude': '120.8215', 'latitude': '-32.2786'}\n",
      "{'longitude': '121.3438', 'latitude': '-32.7165'}\n",
      "{'longitude': '121.8983', 'latitude': '-33.1736'}\n",
      "{'longitude': '122.4322', 'latitude': '-33.6062'}\n",
      "{'longitude': '122.9990', 'latitude': '-34.0576'}\n",
      "{'longitude': '123.5449', 'latitude': '-34.4846'}\n",
      "{'longitude': '124.1245', 'latitude': '-34.9299'}\n",
      "{'longitude': '124.6829', 'latitude': '-35.3510'}\n",
      "{'longitude': '125.2758', 'latitude': '-35.7899'}\n",
      "{'longitude': '125.8472', 'latitude': '-36.2047'}\n",
      "{'longitude': '126.4540', 'latitude': '-36.6368'}\n",
      "{'longitude': '127.0387', 'latitude': '-37.0450'}\n",
      "{'longitude': '127.6599', 'latitude': '-37.4700'}\n",
      "{'longitude': '128.2585', 'latitude': '-37.8712'}\n",
      "{'longitude': '128.8946', 'latitude': '-38.2887'}\n",
      "{'longitude': '129.5076', 'latitude': '-38.6825'}\n",
      "{'longitude': '130.1592', 'latitude': '-39.0922'}\n",
      "{'longitude': '130.7872', 'latitude': '-39.4784'}\n",
      "{'longitude': '131.4545', 'latitude': '-39.8798'}\n",
      "{'longitude': '132.0978', 'latitude': '-40.2579'}\n",
      "{'longitude': '132.7815', 'latitude': '-40.6505'}\n",
      "{'longitude': '133.4406', 'latitude': '-41.0201'}\n",
      "{'longitude': '134.1411', 'latitude': '-41.4035'}\n",
      "{'longitude': '134.8164', 'latitude': '-41.7641'}\n",
      "{'longitude': '135.5342', 'latitude': '-42.1379'}\n",
      "{'longitude': '136.2261', 'latitude': '-42.4892'}\n",
      "{'longitude': '136.9615', 'latitude': '-42.8529'}\n",
      "{'longitude': '137.6703', 'latitude': '-43.1943'}\n",
      "{'longitude': '138.4237', 'latitude': '-43.5475'}\n",
      "{'longitude': '139.1499', 'latitude': '-43.8786'}\n",
      "{'longitude': '139.9216', 'latitude': '-44.2207'}\n",
      "{'longitude': '140.6653', 'latitude': '-44.5410'}\n",
      "{'longitude': '141.4555', 'latitude': '-44.8715'}\n",
      "{'longitude': '142.2169', 'latitude': '-45.1805'}\n",
      "{'longitude': '143.0257', 'latitude': '-45.4988'}\n",
      "{'longitude': '143.8048', 'latitude': '-45.7959'}\n",
      "{'longitude': '144.6323', 'latitude': '-46.1015'}\n",
      "{'longitude': '145.4292', 'latitude': '-46.3863'}\n",
      "{'longitude': '146.2753', 'latitude': '-46.6786'}\n",
      "{'longitude': '147.0901', 'latitude': '-46.9506'}\n",
      "{'longitude': '147.9548', 'latitude': '-47.2291'}\n",
      "{'longitude': '148.7872', 'latitude': '-47.4876'}\n",
      "{'longitude': '149.6706', 'latitude': '-47.7519'}\n",
      "{'longitude': '150.5204', 'latitude': '-47.9966'}\n",
      "{'longitude': '151.4216', 'latitude': '-48.2459'}\n",
      "{'longitude': '152.2885', 'latitude': '-48.4761'}\n",
      "{'longitude': '153.2074', 'latitude': '-48.7100'}\n",
      "{'longitude': '154.0908', 'latitude': '-48.9252'}\n",
      "{'longitude': '155.0268', 'latitude': '-49.1431'}\n",
      "{'longitude': '155.9261', 'latitude': '-49.3429'}\n",
      "{'longitude': '156.8783', 'latitude': '-49.5443'}\n",
      "{'longitude': '157.7928', 'latitude': '-49.7282'}\n",
      "{'longitude': '158.7606', 'latitude': '-49.9126'}\n",
      "{'longitude': '159.6894', 'latitude': '-50.0801'}\n",
      "{'longitude': '160.6718', 'latitude': '-50.2471'}\n",
      "{'longitude': '161.6139', 'latitude': '-50.3977'}\n",
      "{'longitude': '162.6097', 'latitude': '-50.5468'}\n"
     ]
    },
    {
     "name": "stdout",
     "output_type": "stream",
     "text": [
      "{'longitude': '163.5640', 'latitude': '-50.6801'}\n",
      "{'longitude': '164.5720', 'latitude': '-50.8110'}\n",
      "{'longitude': '165.5372', 'latitude': '-50.9267'}\n",
      "{'longitude': '166.5557', 'latitude': '-51.0388'}\n",
      "{'longitude': '167.5304', 'latitude': '-51.1366'}\n",
      "{'longitude': '168.5583', 'latitude': '-51.2298'}\n",
      "{'longitude': '169.5410', 'latitude': '-51.3093'}\n",
      "{'longitude': '170.5766', 'latitude': '-51.3832'}\n",
      "{'longitude': '171.5657', 'latitude': '-51.4443'}\n",
      "{'longitude': '172.6071', 'latitude': '-51.4987'}\n",
      "{'longitude': '173.6011', 'latitude': '-51.5411'}\n",
      "{'longitude': '174.6466', 'latitude': '-51.5759'}\n",
      "{'longitude': '175.6437', 'latitude': '-51.5995'}\n",
      "{'longitude': '176.6917', 'latitude': '-51.6145'}\n",
      "{'longitude': '177.6900', 'latitude': '-51.6193'}\n",
      "{'longitude': '178.7384', 'latitude': '-51.6145'}\n",
      "{'longitude': '179.7364', 'latitude': '-51.6005'}\n",
      "{'longitude': '-179.2164', 'latitude': '-51.5758'}\n",
      "{'longitude': '-178.2206', 'latitude': '-51.5430'}\n",
      "{'longitude': '-177.1768', 'latitude': '-51.4986'}\n",
      "{'longitude': '-176.1849', 'latitude': '-51.4470'}\n",
      "{'longitude': '-175.1463', 'latitude': '-51.3831'}\n",
      "{'longitude': '-174.1601', 'latitude': '-51.3130'}\n",
      "{'longitude': '-173.1282', 'latitude': '-51.2296'}\n",
      "{'longitude': '-172.1493', 'latitude': '-51.1411'}\n",
      "{'longitude': '-171.1260', 'latitude': '-51.0387'}\n",
      "{'longitude': '-170.1076', 'latitude': '-50.9266'}\n",
      "{'longitude': '-169.1426', 'latitude': '-50.8109'}\n",
      "{'longitude': '-168.1828', 'latitude': '-50.6865'}\n",
      "{'longitude': '-167.1809', 'latitude': '-50.5467'}\n",
      "{'longitude': '-166.1854', 'latitude': '-50.3977'}\n",
      "{'longitude': '-165.2436', 'latitude': '-50.2471'}\n",
      "{'longitude': '-164.2614', 'latitude': '-50.0801'}\n",
      "{'longitude': '-163.3328', 'latitude': '-49.9127'}\n",
      "{'longitude': '-162.3652', 'latitude': '-49.7283'}\n",
      "{'longitude': '-161.4506', 'latitude': '-49.5445'}\n",
      "{'longitude': '-160.4986', 'latitude': '-49.3431'}\n",
      "{'longitude': '-159.5996', 'latitude': '-49.1434'}\n",
      "{'longitude': '-158.6638', 'latitude': '-48.9255'}\n",
      "{'longitude': '-157.7807', 'latitude': '-48.7104'}\n",
      "{'longitude': '-156.8620', 'latitude': '-48.4766'}\n",
      "{'longitude': '-155.9955', 'latitude': '-48.2465'}\n",
      "{'longitude': '-155.0945', 'latitude': '-47.9972'}\n",
      "{'longitude': '-154.2450', 'latitude': '-47.7527'}\n",
      "{'longitude': '-153.3623', 'latitude': '-47.4887'}\n",
      "{'longitude': '-152.5301', 'latitude': '-47.2302'}\n",
      "{'longitude': '-151.6658', 'latitude': '-46.9519'}\n",
      "{'longitude': '-150.8513', 'latitude': '-46.6800'}\n",
      "{'longitude': '-150.0055', 'latitude': '-46.3879'}\n",
      "{'longitude': '-149.2088', 'latitude': '-46.1032'}\n",
      "{'longitude': '-148.3819', 'latitude': '-45.7979'}\n",
      "{'longitude': '-147.6031', 'latitude': '-45.5009'}\n",
      "{'longitude': '-146.7948', 'latitude': '-45.1829'}\n",
      "{'longitude': '-146.0338', 'latitude': '-44.8741'}\n",
      "{'longitude': '-145.2441', 'latitude': '-44.5439'}\n",
      "{'longitude': '-144.5009', 'latitude': '-44.2239'}\n",
      "{'longitude': '-143.7296', 'latitude': '-43.8821'}\n",
      "{'longitude': '-143.0038', 'latitude': '-43.5512'}\n",
      "{'longitude': '-142.2507', 'latitude': '-43.1983'}\n",
      "{'longitude': '-141.5421', 'latitude': '-42.8571'}\n",
      "{'longitude': '-140.8071', 'latitude': '-42.4937'}\n",
      "{'longitude': '-140.1155', 'latitude': '-42.1427'}\n",
      "{'longitude': '-139.3981', 'latitude': '-41.7692'}\n",
      "{'longitude': '-138.7232', 'latitude': '-41.4088'}\n",
      "{'longitude': '-138.0229', 'latitude': '-41.0256'}\n",
      "{'longitude': '-137.3641', 'latitude': '-40.6563'}\n",
      "{'longitude': '-136.6806', 'latitude': '-40.2640'}\n",
      "{'longitude': '-136.0375', 'latitude': '-39.8861'}\n",
      "{'longitude': '-135.3705', 'latitude': '-39.4851'}\n",
      "{'longitude': '-134.7427', 'latitude': '-39.0992'}\n",
      "{'longitude': '-134.0915', 'latitude': '-38.6899'}\n",
      "{'longitude': '-133.4786', 'latitude': '-38.2962'}\n",
      "{'longitude': '-132.8429', 'latitude': '-37.8791'}\n",
      "{'longitude': '-132.2144', 'latitude': '-37.4578'}\n",
      "{'longitude': '-131.6234', 'latitude': '-37.0534'}\n",
      "{'longitude': '-131.0100', 'latitude': '-36.6252'}\n",
      "{'longitude': '-130.4325', 'latitude': '-36.2139'}\n",
      "{'longitude': '-129.8331', 'latitude': '-35.7786'}\n",
      "{'longitude': '-129.2688', 'latitude': '-35.3610'}\n",
      "{'longitude': '-128.6830', 'latitude': '-34.9192'}\n",
      "{'longitude': '-128.1314', 'latitude': '-34.4954'}\n",
      "{'longitude': '-127.5587', 'latitude': '-34.0474'}\n",
      "{'longitude': '-127.0193', 'latitude': '-33.6178'}\n",
      "{'longitude': '-126.4593', 'latitude': '-33.1640'}\n",
      "{'longitude': '-125.9318', 'latitude': '-32.7291'}\n",
      "{'longitude': '-125.3837', 'latitude': '-32.2697'}\n",
      "{'longitude': '-124.8673', 'latitude': '-31.8295'}\n",
      "{'longitude': '-124.3308', 'latitude': '-31.3647'}\n",
      "{'longitude': '-123.8252', 'latitude': '-30.9196'}\n",
      "{'longitude': '-123.2997', 'latitude': '-30.4498'}\n",
      "{'longitude': '-122.8044', 'latitude': '-30.0002'}\n",
      "{'longitude': '-122.2896', 'latitude': '-29.5257'}\n",
      "{'longitude': '-121.8040', 'latitude': '-29.0715'}\n",
      "{'longitude': '-121.2992', 'latitude': '-28.5925'}\n",
      "{'longitude': '-120.8231', 'latitude': '-28.1343'}\n",
      "{'longitude': '-120.3279', 'latitude': '-27.6509'}\n",
      "{'longitude': '-119.8607', 'latitude': '-27.1888'}\n",
      "{'longitude': '-119.3746', 'latitude': '-26.7014'}\n",
      "{'longitude': '-118.9159', 'latitude': '-26.2355'}\n",
      "{'longitude': '-118.4385', 'latitude': '-25.7444'}\n",
      "{'longitude': '-117.9879', 'latitude': '-25.2749'}\n",
      "{'longitude': '-117.5189', 'latitude': '-24.7804'}\n",
      "{'longitude': '-117.0761', 'latitude': '-24.3077'}\n",
      "{'longitude': '-116.6149', 'latitude': '-23.8098'}\n",
      "{'longitude': '-116.1793', 'latitude': '-23.3339'}\n",
      "{'longitude': '-115.7255', 'latitude': '-22.8327'}\n",
      "{'longitude': '-115.2967', 'latitude': '-22.3540'}\n",
      "{'longitude': '-114.8499', 'latitude': '-21.8497'}\n",
      "{'longitude': '-114.4277', 'latitude': '-21.3683'}\n",
      "{'longitude': '-113.9876', 'latitude': '-20.8613'}\n",
      "{'longitude': '-113.5715', 'latitude': '-20.3772'}\n",
      "{'longitude': '-113.1377', 'latitude': '-19.8676'}\n",
      "{'longitude': '-112.7272', 'latitude': '-19.3810'}\n",
      "{'longitude': '-112.2993', 'latitude': '-18.8690'}\n",
      "{'longitude': '-111.8943', 'latitude': '-18.3801'}\n",
      "{'longitude': '-111.4718', 'latitude': '-17.8657'}\n",
      "{'longitude': '-111.0720', 'latitude': '-17.3748'}\n",
      "{'longitude': '-110.6547', 'latitude': '-16.8582'}\n",
      "{'longitude': '-110.2596', 'latitude': '-16.3654'}\n",
      "{'longitude': '-109.8471', 'latitude': '-15.8469'}\n",
      "{'longitude': '-109.4565', 'latitude': '-15.3522'}\n",
      "{'longitude': '-109.0485', 'latitude': '-14.8319'}\n",
      "{'longitude': '-108.6620', 'latitude': '-14.3355'}\n",
      "{'longitude': '-108.2582', 'latitude': '-13.8135'}\n",
      "{'longitude': '-107.8754', 'latitude': '-13.3156'}\n",
      "{'longitude': '-107.4754', 'latitude': '-12.7921'}\n",
      "{'longitude': '-107.0962', 'latitude': '-12.2927'}\n",
      "{'longitude': '-106.6997', 'latitude': '-11.7677'}\n",
      "{'longitude': '-106.3236', 'latitude': '-11.2670'}\n",
      "{'longitude': '-105.9302', 'latitude': '-10.7406'}\n",
      "{'longitude': '-105.5570', 'latitude': '-10.2387'}\n",
      "{'longitude': '-105.1666', 'latitude': '-9.7112'}\n",
      "{'longitude': '-104.7960', 'latitude': '-9.2082'}\n",
      "{'longitude': '-104.4081', 'latitude': '-8.6796'}\n",
      "{'longitude': '-104.0396', 'latitude': '-8.1755'}\n",
      "{'longitude': '-103.6540', 'latitude': '-7.6459'}\n",
      "{'longitude': '-103.2878', 'latitude': '-7.1412'}\n",
      "{'longitude': '-102.9040', 'latitude': '-6.6106'}\n",
      "{'longitude': '-102.5396', 'latitude': '-6.1052'}\n",
      "{'longitude': '-102.1576', 'latitude': '-5.5739'}\n",
      "{'longitude': '-101.7946', 'latitude': '-5.0678'}\n",
      "{'longitude': '-101.4141', 'latitude': '-4.5362'}\n",
      "{'longitude': '-101.0523', 'latitude': '-4.0296'}\n",
      "{'longitude': '-100.6730', 'latitude': '-3.4974'}\n",
      "{'longitude': '-100.3121', 'latitude': '-2.9904'}\n",
      "{'longitude': '-99.9336', 'latitude': '-2.4578'}\n",
      "{'longitude': '-99.5734', 'latitude': '-1.9504'}\n",
      "{'longitude': '-99.1955', 'latitude': '-1.4177'}\n",
      "{'longitude': '-98.8357', 'latitude': '-0.9102'}\n",
      "{'longitude': '-98.4580', 'latitude': '-0.3771'}\n",
      "{'longitude': '-98.0984', 'latitude': '0.1305'}\n",
      "{'longitude': '-97.7208', 'latitude': '0.6635'}\n",
      "{'longitude': '-97.3611', 'latitude': '1.1710'}\n",
      "{'longitude': '-96.9831', 'latitude': '1.7040'}\n",
      "{'longitude': '-96.6229', 'latitude': '2.2116'}\n",
      "{'longitude': '-96.2444', 'latitude': '2.7444'}\n",
      "{'longitude': '-95.8836', 'latitude': '3.2516'}\n",
      "{'longitude': '-95.5043', 'latitude': '3.7841'}\n",
      "{'longitude': '-95.1426', 'latitude': '4.2911'}\n",
      "{'longitude': '-94.7622', 'latitude': '4.8231'}\n",
      "{'longitude': '-94.3993', 'latitude': '5.3296'}\n",
      "{'longitude': '-94.0175', 'latitude': '5.8612'}\n",
      "{'longitude': '-93.6532', 'latitude': '6.3671'}\n"
     ]
    },
    {
     "name": "stdout",
     "output_type": "stream",
     "text": [
      "{'longitude': '-93.2697', 'latitude': '6.8980'}\n",
      "{'longitude': '-92.9036', 'latitude': '7.4034'}\n",
      "{'longitude': '-92.5182', 'latitude': '7.9335'}\n",
      "{'longitude': '-92.1501', 'latitude': '8.4380'}\n",
      "{'longitude': '-91.7624', 'latitude': '8.9673'}\n",
      "{'longitude': '-91.3919', 'latitude': '9.4710'}\n",
      "{'longitude': '-91.0017', 'latitude': '9.9992'}\n",
      "{'longitude': '-90.6288', 'latitude': '10.5018'}\n",
      "{'longitude': '-90.2357', 'latitude': '11.0290'}\n",
      "{'longitude': '-89.8599', 'latitude': '11.5304'}\n",
      "{'longitude': '-89.4636', 'latitude': '12.0564'}\n",
      "{'longitude': '-89.0846', 'latitude': '12.5567'}\n",
      "{'longitude': '-88.6849', 'latitude': '13.0813'}\n",
      "{'longitude': '-88.3024', 'latitude': '13.5802'}\n",
      "{'longitude': '-87.8989', 'latitude': '14.1032'}\n",
      "{'longitude': '-87.5127', 'latitude': '14.6007'}\n",
      "{'longitude': '-87.1050', 'latitude': '15.1222'}\n",
      "{'longitude': '-86.7147', 'latitude': '15.6180'}\n",
      "{'longitude': '-86.3025', 'latitude': '16.1377'}\n",
      "{'longitude': '-85.9079', 'latitude': '16.6317'}\n",
      "{'longitude': '-85.4909', 'latitude': '17.1495'}\n",
      "{'longitude': '-85.0915', 'latitude': '17.6416'}\n",
      "{'longitude': '-84.6694', 'latitude': '18.1574'}\n",
      "{'longitude': '-84.2648', 'latitude': '18.6475'}\n",
      "{'longitude': '-83.8372', 'latitude': '19.1611'}\n",
      "{'longitude': '-83.4272', 'latitude': '19.6490'}\n",
      "{'longitude': '-82.9938', 'latitude': '20.1602'}\n",
      "{'longitude': '-82.5781', 'latitude': '20.6458'}\n",
      "{'longitude': '-82.1384', 'latitude': '21.1543'}\n",
      "{'longitude': '-81.7165', 'latitude': '21.6374'}\n",
      "{'longitude': '-81.2699', 'latitude': '22.1436'}\n",
      "{'longitude': '-80.8416', 'latitude': '22.6240'}\n",
      "{'longitude': '-80.3884', 'latitude': '23.1268'}\n",
      "{'longitude': '-79.9532', 'latitude': '23.6043'}\n",
      "{'longitude': '-79.4925', 'latitude': '24.1041'}\n",
      "{'longitude': '-79.0499', 'latitude': '24.5786'}\n",
      "{'longitude': '-78.5813', 'latitude': '25.0752'}\n",
      "{'longitude': '-78.1311', 'latitude': '25.5465'}\n",
      "{'longitude': '-77.6543', 'latitude': '26.0394'}\n",
      "{'longitude': '-77.1960', 'latitude': '26.5073'}\n",
      "{'longitude': '-76.7105', 'latitude': '26.9965'}\n",
      "{'longitude': '-76.2438', 'latitude': '27.4607'}\n",
      "{'longitude': '-75.7490', 'latitude': '27.9461'}\n",
      "{'longitude': '-75.2734', 'latitude': '28.4063'}\n",
      "{'longitude': '-74.7691', 'latitude': '28.8874'}\n",
      "{'longitude': '-74.2839', 'latitude': '29.3437'}\n",
      "{'longitude': '-73.7695', 'latitude': '29.8204'}\n",
      "{'longitude': '-73.2746', 'latitude': '30.2723'}\n",
      "{'longitude': '-72.7496', 'latitude': '30.7443'}\n",
      "{'longitude': '-72.2445', 'latitude': '31.1915'}\n",
      "{'longitude': '-71.7085', 'latitude': '31.6585'}\n",
      "{'longitude': '-71.1926', 'latitude': '32.1009'}\n",
      "{'longitude': '-70.6449', 'latitude': '32.5628'}\n",
      "{'longitude': '-70.1177', 'latitude': '33.0001'}\n",
      "{'longitude': '-69.5579', 'latitude': '33.4564'}\n",
      "{'longitude': '-69.0190', 'latitude': '33.8883'}\n",
      "{'longitude': '-68.4468', 'latitude': '34.3387'}\n",
      "{'longitude': '-67.8957', 'latitude': '34.7648'}\n",
      "{'longitude': '-67.3103', 'latitude': '35.2090'}\n",
      "{'longitude': '-66.7462', 'latitude': '35.6293'}\n",
      "{'longitude': '-66.1472', 'latitude': '36.0671'}\n",
      "{'longitude': '-65.5699', 'latitude': '36.4808'}\n",
      "{'longitude': '-64.9567', 'latitude': '36.9118'}\n",
      "{'longitude': '-64.3657', 'latitude': '37.3188'}\n",
      "{'longitude': '-63.7378', 'latitude': '37.7426'}\n",
      "{'longitude': '-63.1327', 'latitude': '38.1425'}\n",
      "{'longitude': '-62.4896', 'latitude': '38.5586'}\n",
      "{'longitude': '-61.8697', 'latitude': '38.9511'}\n",
      "{'longitude': '-61.2110', 'latitude': '39.3591'}\n",
      "{'longitude': '-60.5760', 'latitude': '39.7437'}\n",
      "{'longitude': '-59.9012', 'latitude': '40.1432'}\n",
      "{'longitude': '-59.2504', 'latitude': '40.5196'}\n",
      "{'longitude': '-58.5589', 'latitude': '40.9103'}\n",
      "{'longitude': '-57.8922', 'latitude': '41.2779'}\n",
      "{'longitude': '-57.1835', 'latitude': '41.6593'}\n",
      "{'longitude': '-56.5002', 'latitude': '42.0178'}\n",
      "{'longitude': '-55.7740', 'latitude': '42.3893'}\n",
      "{'longitude': '-55.0739', 'latitude': '42.7383'}\n",
      "{'longitude': '-54.3298', 'latitude': '43.0995'}\n",
      "{'longitude': '-53.5763', 'latitude': '43.4552'}\n",
      "{'longitude': '-52.8500', 'latitude': '43.7888'}\n",
      "{'longitude': '-52.0780', 'latitude': '44.1336'}\n",
      "{'longitude': '-51.3339', 'latitude': '44.4564'}\n",
      "{'longitude': '-50.5434', 'latitude': '44.7895'}\n",
      "{'longitude': '-49.7817', 'latitude': '45.1010'}\n",
      "{'longitude': '-48.9723', 'latitude': '45.4219'}\n",
      "{'longitude': '-48.1924', 'latitude': '45.7216'}\n",
      "{'longitude': '-47.3641', 'latitude': '46.0299'}\n",
      "{'longitude': '-46.5662', 'latitude': '46.3173'}\n",
      "{'longitude': '-45.7190', 'latitude': '46.6123'}\n"
     ]
    }
   ],
   "source": [
    "while True:\n",
    "    response_status_code=requests.get(url)\n",
    "    py_dic=json.loads(response_status_code.text)\n",
    "    time.sleep(10)\n",
    "    print(py_dic['iss_position'])"
   ]
  },
  {
   "cell_type": "code",
   "execution_count": null,
   "id": "88299dea",
   "metadata": {},
   "outputs": [],
   "source": []
  }
 ],
 "metadata": {
  "kernelspec": {
   "display_name": "Python 3 (ipykernel)",
   "language": "python",
   "name": "python3"
  },
  "language_info": {
   "codemirror_mode": {
    "name": "ipython",
    "version": 3
   },
   "file_extension": ".py",
   "mimetype": "text/x-python",
   "name": "python",
   "nbconvert_exporter": "python",
   "pygments_lexer": "ipython3",
   "version": "3.11.5"
  }
 },
 "nbformat": 4,
 "nbformat_minor": 5
}
