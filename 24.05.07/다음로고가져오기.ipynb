{
 "cells": [
  {
   "cell_type": "code",
   "execution_count": 1,
   "id": "2240eaf8",
   "metadata": {},
   "outputs": [],
   "source": [
    "import requests"
   ]
  },
  {
   "cell_type": "code",
   "execution_count": 4,
   "id": "c546969b",
   "metadata": {},
   "outputs": [
    {
     "data": {
      "text/plain": [
       "<Response [200]>"
      ]
     },
     "execution_count": 4,
     "metadata": {},
     "output_type": "execute_result"
    }
   ],
   "source": [
    "img_url=('https://t1.daumcdn.net/daumtop_deco/images/pctop/2023/logo_daum.png')\n",
    "img_url_statust_code=requests.get(img_url)\n",
    "img_url_statust_code"
   ]
  },
  {
   "cell_type": "code",
   "execution_count": 5,
   "id": "7aa8f082",
   "metadata": {},
   "outputs": [
    {
     "data": {
      "text/plain": [
       "['https:',\n",
       " '',\n",
       " 't1.daumcdn.net',\n",
       " 'daumtop_deco',\n",
       " 'images',\n",
       " 'pctop',\n",
       " '2023',\n",
       " 'logo_daum.png']"
      ]
     },
     "execution_count": 5,
     "metadata": {},
     "output_type": "execute_result"
    }
   ],
   "source": [
    "img_url.split('/')"
   ]
  },
  {
   "cell_type": "code",
   "execution_count": 6,
   "id": "a026e7ad",
   "metadata": {},
   "outputs": [],
   "source": [
    "li=img_url.split('/')"
   ]
  },
  {
   "cell_type": "code",
   "execution_count": 7,
   "id": "b19ea917",
   "metadata": {},
   "outputs": [
    {
     "data": {
      "text/plain": [
       "'logo_daum.png'"
      ]
     },
     "execution_count": 7,
     "metadata": {},
     "output_type": "execute_result"
    }
   ],
   "source": [
    "li[-1]"
   ]
  },
  {
   "cell_type": "code",
   "execution_count": 15,
   "id": "7bef0f5d",
   "metadata": {},
   "outputs": [],
   "source": [
    "down_forder='C:/ex/py/24.05.07/data'"
   ]
  },
  {
   "cell_type": "code",
   "execution_count": 16,
   "id": "06c46665",
   "metadata": {},
   "outputs": [],
   "source": [
    "from pathlib import Path"
   ]
  },
  {
   "cell_type": "code",
   "execution_count": 17,
   "id": "721ba8b3",
   "metadata": {},
   "outputs": [],
   "source": [
    "image_dir_path=Path(down_forder)"
   ]
  },
  {
   "cell_type": "code",
   "execution_count": 18,
   "id": "1a374953",
   "metadata": {},
   "outputs": [],
   "source": [
    "if not image_dir_path.exists():\n",
    "    image_dir_path.mkdir(parents=True, exist_ok=True)"
   ]
  },
  {
   "cell_type": "code",
   "execution_count": 19,
   "id": "33b34752",
   "metadata": {},
   "outputs": [],
   "source": [
    "file_name=li[-1]"
   ]
  },
  {
   "cell_type": "code",
   "execution_count": 20,
   "id": "f68b15d5",
   "metadata": {},
   "outputs": [
    {
     "data": {
      "text/plain": [
       "WindowsPath('C:/ex/py/24.05.07/data/logo_daum.png')"
      ]
     },
     "execution_count": 20,
     "metadata": {},
     "output_type": "execute_result"
    }
   ],
   "source": [
    "image_path=image_dir_path/file_name\n",
    "image_path"
   ]
  },
  {
   "cell_type": "code",
   "execution_count": 21,
   "id": "be2a397e",
   "metadata": {},
   "outputs": [],
   "source": [
    "with open(image_path,'wb') as f:\n",
    "    f.write(img_url_statust_code.content)"
   ]
  },
  {
   "cell_type": "code",
   "execution_count": null,
   "id": "c5f1db59",
   "metadata": {},
   "outputs": [],
   "source": []
  }
 ],
 "metadata": {
  "kernelspec": {
   "display_name": "Python 3 (ipykernel)",
   "language": "python",
   "name": "python3"
  },
  "language_info": {
   "codemirror_mode": {
    "name": "ipython",
    "version": 3
   },
   "file_extension": ".py",
   "mimetype": "text/x-python",
   "name": "python",
   "nbconvert_exporter": "python",
   "pygments_lexer": "ipython3",
   "version": "3.11.5"
  }
 },
 "nbformat": 4,
 "nbformat_minor": 5
}
